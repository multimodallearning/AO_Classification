{
 "cells": [
  {
   "cell_type": "code",
   "id": "initial_id",
   "metadata": {
    "collapsed": true,
    "ExecuteTime": {
     "end_time": "2024-10-14T16:42:43.618315Z",
     "start_time": "2024-10-14T16:42:43.563966Z"
    }
   },
   "source": [
    "import pandas as pd\n",
    "\n",
    "df = pd.read_csv('/home/ron/Documents/AOClassification/data/GRAZPEDWRI-DX_reports.csv')\n",
    "# limit to front view only\n",
    "df = df[df['projection']==1]\n",
    "df['ao_classification'] = df['ao_classification'].fillna('none')\n",
    "df.reset_index(inplace=True, drop=True)"
   ],
   "outputs": [],
   "execution_count": 1
  },
  {
   "metadata": {
    "ExecuteTime": {
     "end_time": "2024-10-14T16:42:43.633543Z",
     "start_time": "2024-10-14T16:42:43.619411Z"
    }
   },
   "cell_type": "code",
   "source": [
    "# Create a DataFrame with the relevant columns\n",
    "df_exploded = df[['patient_id', 'ao_classification']].copy()\n",
    "\n",
    "# Split and explode the 'ao_classification' column\n",
    "df_exploded['ao_classification'] = df_exploded['ao_classification'].str.split(';')\n",
    "df_exploded = df_exploded.explode('ao_classification').reset_index(drop=True)\n",
    "\n",
    "# Strip any leading/trailing whitespace from 'ao_classification'\n",
    "df_exploded['ao_classification'] = df_exploded['ao_classification'].str.strip()\n",
    "\n",
    "ao_lbl_series = df_exploded['ao_classification']\n",
    "ao_lbl_series.value_counts()"
   ],
   "id": "1943f042e3b1d190",
   "outputs": [
    {
     "data": {
      "text/plain": [
       "ao_classification\n",
       "none              3022\n",
       "23r-M/3.1         2578\n",
       "23r-M/2.1         1803\n",
       "23u-E/7           1607\n",
       "23u-M/2.1         1161\n",
       "                  ... \n",
       "23r-M/2.1[1,7]       1\n",
       "23r-E/3.1            1\n",
       "76.2.A               1\n",
       "23-M2.1              1\n",
       "23-M3.1              1\n",
       "Name: count, Length: 61, dtype: int64"
      ]
     },
     "execution_count": 2,
     "metadata": {},
     "output_type": "execute_result"
    }
   ],
   "execution_count": 2
  },
  {
   "metadata": {
    "ExecuteTime": {
     "end_time": "2024-10-14T16:42:43.644170Z",
     "start_time": "2024-10-14T16:42:43.634252Z"
    }
   },
   "cell_type": "code",
   "source": [
    "# remove hand and classes that are below a relative threshold\n",
    "n = 5\n",
    "min_availability = n * 20\n",
    "freq = ao_lbl_series.value_counts()\n",
    "freq = freq[freq>min_availability]\n",
    "\n",
    "df_exploded = df_exploded[df_exploded['ao_classification'].isin(freq.index)]\n",
    "df_exploded['ao_classification'].value_counts()"
   ],
   "id": "3bd00cc899e1a4bc",
   "outputs": [
    {
     "data": {
      "text/plain": [
       "ao_classification\n",
       "none         3022\n",
       "23r-M/3.1    2578\n",
       "23r-M/2.1    1803\n",
       "23u-E/7      1607\n",
       "23u-M/2.1    1161\n",
       "23-M/3.1      827\n",
       "23r-E/2.1     723\n",
       "23-M/2.1      706\n",
       "Name: count, dtype: int64"
      ]
     },
     "execution_count": 3,
     "metadata": {},
     "output_type": "execute_result"
    }
   ],
   "execution_count": 3
  },
  {
   "metadata": {
    "ExecuteTime": {
     "end_time": "2024-10-14T16:42:43.653869Z",
     "start_time": "2024-10-14T16:42:43.645037Z"
    }
   },
   "cell_type": "code",
   "source": "print(df_exploded['ao_classification'].nunique(), ' unqiue classes remaining')",
   "id": "a9aa24b42b75abf9",
   "outputs": [
    {
     "name": "stdout",
     "output_type": "stream",
     "text": [
      "8  unqiue classes remaining\n"
     ]
    }
   ],
   "execution_count": 4
  },
  {
   "metadata": {
    "ExecuteTime": {
     "end_time": "2024-10-14T16:42:44.314722Z",
     "start_time": "2024-10-14T16:42:43.654562Z"
    }
   },
   "cell_type": "code",
   "source": [
    "# create n-folded cross validation splits\n",
    "from sklearn.model_selection import StratifiedGroupKFold\n",
    "\n",
    "fold_factory = StratifiedGroupKFold(n_splits=n, shuffle=True, random_state=42)\n",
    "splits = list(fold_factory.split(df_exploded, groups=df_exploded['patient_id'], y=df_exploded['ao_classification']))"
   ],
   "id": "970445a98557e4d0",
   "outputs": [],
   "execution_count": 5
  },
  {
   "metadata": {
    "ExecuteTime": {
     "end_time": "2024-10-14T16:42:44.320170Z",
     "start_time": "2024-10-14T16:42:44.315638Z"
    }
   },
   "cell_type": "code",
   "source": [
    "print(len(set(df['patient_id'])))\n",
    "print(len(set(df_exploded['patient_id'])))"
   ],
   "id": "eca4d06fd27b6f6a",
   "outputs": [
    {
     "name": "stdout",
     "output_type": "stream",
     "text": [
      "5979\n",
      "5815\n"
     ]
    }
   ],
   "execution_count": 6
  },
  {
   "metadata": {
    "ExecuteTime": {
     "end_time": "2024-10-14T16:42:44.353884Z",
     "start_time": "2024-10-14T16:42:44.320776Z"
    }
   },
   "cell_type": "code",
   "source": [
    "pat_id_mask = df['patient_id'].isin(df_exploded['patient_id'])\n",
    "ao_class_mask = df['ao_classification'].str.contains('|'.join(df_exploded['ao_classification'].unique()))\n",
    "\n",
    "df_split = df[pat_id_mask & ao_class_mask].copy()\n",
    "df_split['fold'] = -1\n",
    "for i, (_, test_idx) in enumerate(splits):\n",
    "    fold_pat_ids = df_exploded.iloc[test_idx]['patient_id']\n",
    "    df_split.loc[df_split['patient_id'].isin(fold_pat_ids), 'fold'] = i\n",
    "    print(f'Fold {i}: {len(fold_pat_ids)} patients for testing')\n",
    "assert all(df_split['fold'] != -1)"
   ],
   "id": "581d4c3131c47e64",
   "outputs": [
    {
     "name": "stdout",
     "output_type": "stream",
     "text": [
      "Fold 0: 2389 patients for testing\n",
      "Fold 1: 2508 patients for testing\n",
      "Fold 2: 2512 patients for testing\n",
      "Fold 3: 2578 patients for testing\n",
      "Fold 4: 2440 patients for testing\n"
     ]
    }
   ],
   "execution_count": 7
  },
  {
   "metadata": {
    "ExecuteTime": {
     "end_time": "2024-10-14T16:42:44.358482Z",
     "start_time": "2024-10-14T16:42:44.354677Z"
    }
   },
   "cell_type": "code",
   "source": "df_split['ao_classification'].value_counts()",
   "id": "c52cd1a53d15a4b7",
   "outputs": [
    {
     "data": {
      "text/plain": [
       "ao_classification\n",
       "none                          3022\n",
       "23r-M/2.1                     1596\n",
       "23r-M/3.1; 23u-M/2.1           833\n",
       "23r-M/3.1; 23u-E/7             764\n",
       "23r-M/3.1                      747\n",
       "                              ... \n",
       "23u-E/3; 23u-E/7                 1\n",
       "23r-E/2.1; 23u-M/3.1             1\n",
       "23r-M/2.1[1,7]                   1\n",
       "22-D/2.1; 23u-E/7                1\n",
       "23r-M/2.1; 23u-E/7; 72B(b)       1\n",
       "Name: count, Length: 71, dtype: int64"
      ]
     },
     "execution_count": 8,
     "metadata": {},
     "output_type": "execute_result"
    }
   ],
   "execution_count": 8
  },
  {
   "metadata": {
    "ExecuteTime": {
     "end_time": "2024-10-14T16:42:44.549793Z",
     "start_time": "2024-10-14T16:42:44.359164Z"
    }
   },
   "cell_type": "code",
   "source": [
    "import seaborn as sns\n",
    "from matplotlib import pyplot as plt\n",
    "\n",
    "df_plot = df_split[['ao_classification', 'fold']].copy()\n",
    "df_plot['ao_classification'] = df_plot['ao_classification'].str.split(';')\n",
    "df_plot = df_plot.explode('ao_classification').reset_index(drop=True)\n",
    "df_plot['ao_classification'] = df_plot['ao_classification'].str.strip()\n",
    "df_plot = df_plot[df_plot['ao_classification'].isin(df_exploded['ao_classification'])]\n",
    "\n",
    "plt.figure(figsize=(12, 6))\n",
    "sns.countplot(data=df_plot, x='ao_classification', hue='fold')\n",
    "# rotate x-axis labels\n",
    "plt.xticks(rotation=45);"
   ],
   "id": "bd530b65b909eac5",
   "outputs": [
    {
     "data": {
      "text/plain": [
       "<Figure size 1200x600 with 1 Axes>"
      ],
      "image/png": "[encoded data removed]"
     },
     "metadata": {},
     "output_type": "display_data"
    }
   ],
   "execution_count": 9
  },
  {
   "metadata": {
    "ExecuteTime": {
     "end_time": "2024-10-14T16:42:44.560169Z",
     "start_time": "2024-10-14T16:42:44.550715Z"
    }
   },
   "cell_type": "code",
   "source": [
    "df_print = df_plot.groupby(['ao_classification', 'fold']).size()\n",
    "df_print = df_print.reset_index(name='count')\n",
    "df_print = df_print.pivot(index='ao_classification', columns='fold', values='count')\n",
    "df_print = df_print.fillna(0)\n",
    "\n",
    "# add sum column\n",
    "df_print['sum'] = df_print.sum(axis=1)\n",
    "\n",
    "df_print"
   ],
   "id": "a009afe7a56a8a86",
   "outputs": [
    {
     "data": {
      "text/plain": [
       "fold                 0    1    2    3    4   sum\n",
       "ao_classification                               \n",
       "23-M/2.1           161  142  187   93  123   706\n",
       "23-M/3.1           188  188  145  140  166   827\n",
       "23r-E/2.1           93  132  161  150  187   723\n",
       "23r-M/2.1          335  398  376  356  338  1803\n",
       "23r-M/3.1          521  527  498  564  468  2578\n",
       "23u-E/7            303  339  364  302  299  1607\n",
       "23u-M/2.1          182  224  210  331  214  1161\n",
       "none               606  558  571  642  645  3022"
      ],
      "text/html": [
       "<div>\n",
       "<style scoped>\n",
       "    .dataframe tbody tr th:only-of-type {\n",
       "        vertical-align: middle;\n",
       "    }\n",
       "\n",
       "    .dataframe tbody tr th {\n",
       "        vertical-align: top;\n",
       "    }\n",
       "\n",
       "    .dataframe thead th {\n",
       "        text-align: right;\n",
       "    }\n",
       "</style>\n",
       "<table border=\"1\" class=\"dataframe\">\n",
       "  <thead>\n",
       "    <tr style=\"text-align: right;\">\n",
       "      <th>fold</th>\n",
       "      <th>0</th>\n",
       "      <th>1</th>\n",
       "      <th>2</th>\n",
       "      <th>3</th>\n",
       "      <th>4</th>\n",
       "      <th>sum</th>\n",
       "    </tr>\n",
       "    <tr>\n",
       "      <th>ao_classification</th>\n",
       "      <th></th>\n",
       "      <th></th>\n",
       "      <th></th>\n",
       "      <th></th>\n",
       "      <th></th>\n",
       "      <th></th>\n",
       "    </tr>\n",
       "  </thead>\n",
       "  <tbody>\n",
       "    <tr>\n",
       "      <th>23-M/2.1</th>\n",
       "      <td>161</td>\n",
       "      <td>142</td>\n",
       "      <td>187</td>\n",
       "      <td>93</td>\n",
       "      <td>123</td>\n",
       "      <td>706</td>\n",
       "    </tr>\n",
       "    <tr>\n",
       "      <th>23-M/3.1</th>\n",
       "      <td>188</td>\n",
       "      <td>188</td>\n",
       "      <td>145</td>\n",
       "      <td>140</td>\n",
       "      <td>166</td>\n",
       "      <td>827</td>\n",
       "    </tr>\n",
       "    <tr>\n",
       "      <th>23r-E/2.1</th>\n",
       "      <td>93</td>\n",
       "      <td>132</td>\n",
       "      <td>161</td>\n",
       "      <td>150</td>\n",
       "      <td>187</td>\n",
       "      <td>723</td>\n",
       "    </tr>\n",
       "    <tr>\n",
       "      <th>23r-M/2.1</th>\n",
       "      <td>335</td>\n",
       "      <td>398</td>\n",
       "      <td>376</td>\n",
       "      <td>356</td>\n",
       "      <td>338</td>\n",
       "      <td>1803</td>\n",
       "    </tr>\n",
       "    <tr>\n",
       "      <th>23r-M/3.1</th>\n",
       "      <td>521</td>\n",
       "      <td>527</td>\n",
       "      <td>498</td>\n",
       "      <td>564</td>\n",
       "      <td>468</td>\n",
       "      <td>2578</td>\n",
       "    </tr>\n",
       "    <tr>\n",
       "      <th>23u-E/7</th>\n",
       "      <td>303</td>\n",
       "      <td>339</td>\n",
       "      <td>364</td>\n",
       "      <td>302</td>\n",
       "      <td>299</td>\n",
       "      <td>1607</td>\n",
       "    </tr>\n",
       "    <tr>\n",
       "      <th>23u-M/2.1</th>\n",
       "      <td>182</td>\n",
       "      <td>224</td>\n",
       "      <td>210</td>\n",
       "      <td>331</td>\n",
       "      <td>214</td>\n",
       "      <td>1161</td>\n",
       "    </tr>\n",
       "    <tr>\n",
       "      <th>none</th>\n",
       "      <td>606</td>\n",
       "      <td>558</td>\n",
       "      <td>571</td>\n",
       "      <td>642</td>\n",
       "      <td>645</td>\n",
       "      <td>3022</td>\n",
       "    </tr>\n",
       "  </tbody>\n",
       "</table>\n",
       "</div>"
      ]
     },
     "execution_count": 10,
     "metadata": {},
     "output_type": "execute_result"
    }
   ],
   "execution_count": 10
  },
  {
   "metadata": {
    "ExecuteTime": {
     "end_time": "2024-10-14T16:42:44.633875Z",
     "start_time": "2024-10-14T16:42:44.560756Z"
    }
   },
   "cell_type": "code",
   "source": [
    "print('Known classes:', df_exploded['ao_classification'].unique())\n",
    "df_split.to_csv('/home/ron/Documents/AOClassification/data/dataset_cv_splits.csv', index=False)"
   ],
   "id": "50fdb4a84921dec8",
   "outputs": [
    {
     "name": "stdout",
     "output_type": "stream",
     "text": [
      "Known classes: ['23r-M/2.1' '23-M/3.1' 'none' '23-M/2.1' '23u-E/7' '23r-E/2.1'\n",
      " '23r-M/3.1' '23u-M/2.1']\n"
     ]
    }
   ],
   "execution_count": 11
  }
 ],
 "metadata": {
  "kernelspec": {
   "display_name": "Python 3",
   "language": "python",
   "name": "python3"
  },
  "language_info": {
   "codemirror_mode": {
    "name": "ipython",
    "version": 2
   },
   "file_extension": ".py",
   "mimetype": "text/x-python",
   "name": "python",
   "nbconvert_exporter": "python",
   "pygments_lexer": "ipython2",
   "version": "2.7.6"
  }
 },
 "nbformat": 4,
 "nbformat_minor": 5
}
